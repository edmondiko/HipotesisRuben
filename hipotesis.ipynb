{
 "cells": [
  {
   "attachments": {},
   "cell_type": "markdown",
   "metadata": {},
   "source": [
    "# Hipotesis sobre propinas en restaurantes de estados unidos\n",
    "Hare hipotesis para saber quien da mas o menos propinas, si depende del genero, del sexo del camarero, la cantidad de la propina etc\n",
    "Por cada apartado voy a poner varios ejemplos"
   ]
  },
  {
   "cell_type": "code",
   "execution_count": 16,
   "metadata": {},
   "outputs": [],
   "source": [
    "import pandas as pd\n",
    "\n",
    "datos = pd.read_csv('tips.csv')\n"
   ]
  },
  {
   "attachments": {},
   "cell_type": "markdown",
   "metadata": {},
   "source": [
    "# Hipótesis respecto a un valor:\n",
    "Como es basado en estados unidos yo creo que la propina promedio sera superior a 2.50$\n",
    "Si la propina promedio es mayor que $2.50, la hipótesis nula sería que la propina promedio es igual a $2.50:"
   ]
  },
  {
   "cell_type": "code",
   "execution_count": 19,
   "metadata": {},
   "outputs": [
    {
     "data": {
      "text/html": [
       "<div>\n",
       "<style scoped>\n",
       "    .dataframe tbody tr th:only-of-type {\n",
       "        vertical-align: middle;\n",
       "    }\n",
       "\n",
       "    .dataframe tbody tr th {\n",
       "        vertical-align: top;\n",
       "    }\n",
       "\n",
       "    .dataframe thead th {\n",
       "        text-align: right;\n",
       "    }\n",
       "</style>\n",
       "<table border=\"1\" class=\"dataframe\">\n",
       "  <thead>\n",
       "    <tr style=\"text-align: right;\">\n",
       "      <th></th>\n",
       "      <th>T</th>\n",
       "      <th>dof</th>\n",
       "      <th>alternative</th>\n",
       "      <th>p-val</th>\n",
       "      <th>CI95%</th>\n",
       "      <th>cohen-d</th>\n",
       "      <th>BF10</th>\n",
       "      <th>power</th>\n",
       "    </tr>\n",
       "  </thead>\n",
       "  <tbody>\n",
       "    <tr>\n",
       "      <th>T-test</th>\n",
       "      <td>5.625287</td>\n",
       "      <td>243</td>\n",
       "      <td>two-sided</td>\n",
       "      <td>5.079988e-08</td>\n",
       "      <td>[2.82, 3.17]</td>\n",
       "      <td>0.360122</td>\n",
       "      <td>1.753e+05</td>\n",
       "      <td>0.999865</td>\n",
       "    </tr>\n",
       "  </tbody>\n",
       "</table>\n",
       "</div>"
      ],
      "text/plain": [
       "               T  dof alternative         p-val         CI95%   cohen-d  \\\n",
       "T-test  5.625287  243   two-sided  5.079988e-08  [2.82, 3.17]  0.360122   \n",
       "\n",
       "             BF10     power  \n",
       "T-test  1.753e+05  0.999865  "
      ]
     },
     "execution_count": 19,
     "metadata": {},
     "output_type": "execute_result"
    }
   ],
   "source": [
    "from pingouin import ttest\n",
    "\n",
    "ttest(datos['tip'], 2.5)"
   ]
  },
  {
   "attachments": {},
   "cell_type": "markdown",
   "metadata": {},
   "source": [
    "Como Sale que p-val inferior a 0.05 se rechaza la hipotesis nula, por lo tanto la propina promedio es mayor que $2.50."
   ]
  },
  {
   "cell_type": "markdown",
   "metadata": {},
   "source": [
    "Vamos con otro ejemplo como que de media la factura total es de 20 dolares"
   ]
  },
  {
   "cell_type": "code",
   "execution_count": 21,
   "metadata": {},
   "outputs": [
    {
     "data": {
      "text/html": [
       "<div>\n",
       "<style scoped>\n",
       "    .dataframe tbody tr th:only-of-type {\n",
       "        vertical-align: middle;\n",
       "    }\n",
       "\n",
       "    .dataframe tbody tr th {\n",
       "        vertical-align: top;\n",
       "    }\n",
       "\n",
       "    .dataframe thead th {\n",
       "        text-align: right;\n",
       "    }\n",
       "</style>\n",
       "<table border=\"1\" class=\"dataframe\">\n",
       "  <thead>\n",
       "    <tr style=\"text-align: right;\">\n",
       "      <th></th>\n",
       "      <th>T</th>\n",
       "      <th>dof</th>\n",
       "      <th>alternative</th>\n",
       "      <th>p-val</th>\n",
       "      <th>CI95%</th>\n",
       "      <th>cohen-d</th>\n",
       "      <th>BF10</th>\n",
       "      <th>power</th>\n",
       "    </tr>\n",
       "  </thead>\n",
       "  <tbody>\n",
       "    <tr>\n",
       "      <th>T-test</th>\n",
       "      <td>-0.375593</td>\n",
       "      <td>243</td>\n",
       "      <td>two-sided</td>\n",
       "      <td>0.707547</td>\n",
       "      <td>[18.66, 20.91]</td>\n",
       "      <td>0.024045</td>\n",
       "      <td>0.077</td>\n",
       "      <td>0.066182</td>\n",
       "    </tr>\n",
       "  </tbody>\n",
       "</table>\n",
       "</div>"
      ],
      "text/plain": [
       "               T  dof alternative     p-val           CI95%   cohen-d   BF10  \\\n",
       "T-test -0.375593  243   two-sided  0.707547  [18.66, 20.91]  0.024045  0.077   \n",
       "\n",
       "           power  \n",
       "T-test  0.066182  "
      ]
     },
     "execution_count": 21,
     "metadata": {},
     "output_type": "execute_result"
    }
   ],
   "source": [
    "ttest(datos['total_bill'], 20)\n"
   ]
  },
  {
   "attachments": {},
   "cell_type": "markdown",
   "metadata": {},
   "source": [
    "Ahora si que da un p-val superior a 0.05, por lo tanto no se rechaza la hipotesis nula, por lo tanto la media de la factura total es de 20 dolares"
   ]
  },
  {
   "cell_type": "markdown",
   "metadata": {},
   "source": [
    "La propina promedio en el almuerzo es igual a 2 dólares."
   ]
  },
  {
   "cell_type": "code",
   "execution_count": 28,
   "metadata": {},
   "outputs": [
    {
     "data": {
      "text/html": [
       "<div>\n",
       "<style scoped>\n",
       "    .dataframe tbody tr th:only-of-type {\n",
       "        vertical-align: middle;\n",
       "    }\n",
       "\n",
       "    .dataframe tbody tr th {\n",
       "        vertical-align: top;\n",
       "    }\n",
       "\n",
       "    .dataframe thead th {\n",
       "        text-align: right;\n",
       "    }\n",
       "</style>\n",
       "<table border=\"1\" class=\"dataframe\">\n",
       "  <thead>\n",
       "    <tr style=\"text-align: right;\">\n",
       "      <th></th>\n",
       "      <th>T</th>\n",
       "      <th>dof</th>\n",
       "      <th>alternative</th>\n",
       "      <th>p-val</th>\n",
       "      <th>CI95%</th>\n",
       "      <th>cohen-d</th>\n",
       "      <th>BF10</th>\n",
       "      <th>power</th>\n",
       "    </tr>\n",
       "  </thead>\n",
       "  <tbody>\n",
       "    <tr>\n",
       "      <th>T-test</th>\n",
       "      <td>4.98112</td>\n",
       "      <td>67</td>\n",
       "      <td>two-sided</td>\n",
       "      <td>0.000005</td>\n",
       "      <td>[2.44, 3.02]</td>\n",
       "      <td>0.604049</td>\n",
       "      <td>3582.698</td>\n",
       "      <td>0.998404</td>\n",
       "    </tr>\n",
       "  </tbody>\n",
       "</table>\n",
       "</div>"
      ],
      "text/plain": [
       "              T  dof alternative     p-val         CI95%   cohen-d      BF10  \\\n",
       "T-test  4.98112   67   two-sided  0.000005  [2.44, 3.02]  0.604049  3582.698   \n",
       "\n",
       "           power  \n",
       "T-test  0.998404  "
      ]
     },
     "execution_count": 28,
     "metadata": {},
     "output_type": "execute_result"
    }
   ],
   "source": [
    "ttest(datos.loc[datos['time'] == 'Lunch', 'tip'], 2.0)\n"
   ]
  },
  {
   "attachments": {},
   "cell_type": "markdown",
   "metadata": {},
   "source": [
    "Como el p-val es inferior a 0.05 se rechaza la hipotesis nula, por lo tanto la propina promedio en el almuerzo es diferente a 2 dolares"
   ]
  },
  {
   "attachments": {},
   "cell_type": "markdown",
   "metadata": {},
   "source": [
    "# Hipótesis respecto dos muestras independientes\n",
    "Para realizar un test de hipótesis respecto a dos muestras independientes, debes utilizar la función ttest de Pingouin, pero esta vez pasándole dos arrays de datos en lugar de uno. Supongamos que quieres comparar los valores medios de la variable \"total_bill\" para hombres y mujeres. Para hacerlo, puedes ejecutar el siguiente código:"
   ]
  },
  {
   "cell_type": "code",
   "execution_count": 22,
   "metadata": {},
   "outputs": [
    {
     "data": {
      "text/html": [
       "<div>\n",
       "<style scoped>\n",
       "    .dataframe tbody tr th:only-of-type {\n",
       "        vertical-align: middle;\n",
       "    }\n",
       "\n",
       "    .dataframe tbody tr th {\n",
       "        vertical-align: top;\n",
       "    }\n",
       "\n",
       "    .dataframe thead th {\n",
       "        text-align: right;\n",
       "    }\n",
       "</style>\n",
       "<table border=\"1\" class=\"dataframe\">\n",
       "  <thead>\n",
       "    <tr style=\"text-align: right;\">\n",
       "      <th></th>\n",
       "      <th>T</th>\n",
       "      <th>dof</th>\n",
       "      <th>alternative</th>\n",
       "      <th>p-val</th>\n",
       "      <th>CI95%</th>\n",
       "      <th>cohen-d</th>\n",
       "      <th>BF10</th>\n",
       "      <th>power</th>\n",
       "    </tr>\n",
       "  </thead>\n",
       "  <tbody>\n",
       "    <tr>\n",
       "      <th>T-test</th>\n",
       "      <td>2.373398</td>\n",
       "      <td>199.848262</td>\n",
       "      <td>two-sided</td>\n",
       "      <td>0.018573</td>\n",
       "      <td>[0.45, 4.92]</td>\n",
       "      <td>0.304439</td>\n",
       "      <td>2.033</td>\n",
       "      <td>0.621269</td>\n",
       "    </tr>\n",
       "  </tbody>\n",
       "</table>\n",
       "</div>"
      ],
      "text/plain": [
       "               T         dof alternative     p-val         CI95%   cohen-d  \\\n",
       "T-test  2.373398  199.848262   two-sided  0.018573  [0.45, 4.92]  0.304439   \n",
       "\n",
       "         BF10     power  \n",
       "T-test  2.033  0.621269  "
      ]
     },
     "execution_count": 22,
     "metadata": {},
     "output_type": "execute_result"
    }
   ],
   "source": [
    "hombres = datos.loc[datos['sex'] == 'Male', 'total_bill']\n",
    "mujeres = datos.loc[datos['sex'] == 'Female', 'total_bill']\n",
    "\n",
    "ttest(hombres, mujeres)\n"
   ]
  },
  {
   "attachments": {},
   "cell_type": "markdown",
   "metadata": {},
   "source": [
    "como da un p-val inferior a 0.05 se rechaza la hipotesis nula, por lo tanto la media de la factura total es diferente para hombres y mujeres "
   ]
  },
  {
   "attachments": {},
   "cell_type": "markdown",
   "metadata": {},
   "source": [
    "Hay una diferencia significativa en la propina promedio dejada por hombres y mujeres."
   ]
  },
  {
   "cell_type": "code",
   "execution_count": 29,
   "metadata": {},
   "outputs": [
    {
     "data": {
      "text/html": [
       "<div>\n",
       "<style scoped>\n",
       "    .dataframe tbody tr th:only-of-type {\n",
       "        vertical-align: middle;\n",
       "    }\n",
       "\n",
       "    .dataframe tbody tr th {\n",
       "        vertical-align: top;\n",
       "    }\n",
       "\n",
       "    .dataframe thead th {\n",
       "        text-align: right;\n",
       "    }\n",
       "</style>\n",
       "<table border=\"1\" class=\"dataframe\">\n",
       "  <thead>\n",
       "    <tr style=\"text-align: right;\">\n",
       "      <th></th>\n",
       "      <th>T</th>\n",
       "      <th>dof</th>\n",
       "      <th>alternative</th>\n",
       "      <th>p-val</th>\n",
       "      <th>CI95%</th>\n",
       "      <th>cohen-d</th>\n",
       "      <th>BF10</th>\n",
       "      <th>power</th>\n",
       "    </tr>\n",
       "  </thead>\n",
       "  <tbody>\n",
       "    <tr>\n",
       "      <th>T-test</th>\n",
       "      <td>1.489536</td>\n",
       "      <td>215.707021</td>\n",
       "      <td>two-sided</td>\n",
       "      <td>0.137807</td>\n",
       "      <td>[-0.08, 0.6]</td>\n",
       "      <td>0.185494</td>\n",
       "      <td>0.414</td>\n",
       "      <td>0.282179</td>\n",
       "    </tr>\n",
       "  </tbody>\n",
       "</table>\n",
       "</div>"
      ],
      "text/plain": [
       "               T         dof alternative     p-val         CI95%   cohen-d  \\\n",
       "T-test  1.489536  215.707021   two-sided  0.137807  [-0.08, 0.6]  0.185494   \n",
       "\n",
       "         BF10     power  \n",
       "T-test  0.414  0.282179  "
      ]
     },
     "execution_count": 29,
     "metadata": {},
     "output_type": "execute_result"
    }
   ],
   "source": [
    "ttest(datos.loc[datos['sex'] == 'Male', 'tip'], datos.loc[datos['sex'] == 'Female', 'tip'])"
   ]
  },
  {
   "attachments": {},
   "cell_type": "markdown",
   "metadata": {},
   "source": [
    "como p-val es superior a 0.05 no se rechaza la hipotesis nula, por lo tanto no hay diferencia significativa en la propina promedio dejada por hombres y mujeres"
   ]
  },
  {
   "attachments": {},
   "cell_type": "markdown",
   "metadata": {},
   "source": [
    "El total de la cuenta promedio en la cena es mayor en los fines de semana que en los días de semana."
   ]
  },
  {
   "cell_type": "code",
   "execution_count": 31,
   "metadata": {},
   "outputs": [
    {
     "data": {
      "text/html": [
       "<div>\n",
       "<style scoped>\n",
       "    .dataframe tbody tr th:only-of-type {\n",
       "        vertical-align: middle;\n",
       "    }\n",
       "\n",
       "    .dataframe tbody tr th {\n",
       "        vertical-align: top;\n",
       "    }\n",
       "\n",
       "    .dataframe thead th {\n",
       "        text-align: right;\n",
       "    }\n",
       "</style>\n",
       "<table border=\"1\" class=\"dataframe\">\n",
       "  <thead>\n",
       "    <tr style=\"text-align: right;\">\n",
       "      <th></th>\n",
       "      <th>T</th>\n",
       "      <th>dof</th>\n",
       "      <th>alternative</th>\n",
       "      <th>p-val</th>\n",
       "      <th>CI95%</th>\n",
       "      <th>cohen-d</th>\n",
       "      <th>BF10</th>\n",
       "      <th>power</th>\n",
       "    </tr>\n",
       "  </thead>\n",
       "  <tbody>\n",
       "    <tr>\n",
       "      <th>T-test</th>\n",
       "      <td>2.93245</td>\n",
       "      <td>181.815407</td>\n",
       "      <td>two-sided</td>\n",
       "      <td>0.003796</td>\n",
       "      <td>[1.09, 5.58]</td>\n",
       "      <td>0.379811</td>\n",
       "      <td>8.071</td>\n",
       "      <td>0.794696</td>\n",
       "    </tr>\n",
       "  </tbody>\n",
       "</table>\n",
       "</div>"
      ],
      "text/plain": [
       "              T         dof alternative     p-val         CI95%   cohen-d  \\\n",
       "T-test  2.93245  181.815407   two-sided  0.003796  [1.09, 5.58]  0.379811   \n",
       "\n",
       "         BF10     power  \n",
       "T-test  8.071  0.794696  "
      ]
     },
     "execution_count": 31,
     "metadata": {},
     "output_type": "execute_result"
    }
   ],
   "source": [
    "ttest(datos.loc[datos['day'].isin(['Sat', 'Sun']), 'total_bill'], datos.loc[~datos['day'].isin(['Sat', 'Sun']), 'total_bill'])\n"
   ]
  },
  {
   "attachments": {},
   "cell_type": "markdown",
   "metadata": {},
   "source": [
    "como p-val es inferior a 0.05 se rechaza la hipotesis nula, por lo tanto el total de la cuenta promedio en la cena es mayor en los fines de semana que en los días de semana"
   ]
  },
  {
   "attachments": {},
   "cell_type": "markdown",
   "metadata": {},
   "source": [
    "# Hipótesis varias categorías\n",
    "Para realizar un test de hipótesis respecto a varias categorías, debes utilizar la función anova de Pingouin. Supongamos que quieres comparar los valores medios de la variable \"total_bill\" para distintos días de la semana. Para hacerlo, puedes ejecutar el siguiente código:"
   ]
  },
  {
   "cell_type": "code",
   "execution_count": 23,
   "metadata": {},
   "outputs": [
    {
     "data": {
      "text/html": [
       "<div>\n",
       "<style scoped>\n",
       "    .dataframe tbody tr th:only-of-type {\n",
       "        vertical-align: middle;\n",
       "    }\n",
       "\n",
       "    .dataframe tbody tr th {\n",
       "        vertical-align: top;\n",
       "    }\n",
       "\n",
       "    .dataframe thead th {\n",
       "        text-align: right;\n",
       "    }\n",
       "</style>\n",
       "<table border=\"1\" class=\"dataframe\">\n",
       "  <thead>\n",
       "    <tr style=\"text-align: right;\">\n",
       "      <th></th>\n",
       "      <th>Source</th>\n",
       "      <th>ddof1</th>\n",
       "      <th>ddof2</th>\n",
       "      <th>F</th>\n",
       "      <th>p-unc</th>\n",
       "      <th>np2</th>\n",
       "    </tr>\n",
       "  </thead>\n",
       "  <tbody>\n",
       "    <tr>\n",
       "      <th>0</th>\n",
       "      <td>day</td>\n",
       "      <td>3</td>\n",
       "      <td>240</td>\n",
       "      <td>2.767479</td>\n",
       "      <td>0.042454</td>\n",
       "      <td>0.033437</td>\n",
       "    </tr>\n",
       "  </tbody>\n",
       "</table>\n",
       "</div>"
      ],
      "text/plain": [
       "  Source  ddof1  ddof2         F     p-unc       np2\n",
       "0    day      3    240  2.767479  0.042454  0.033437"
      ]
     },
     "execution_count": 23,
     "metadata": {},
     "output_type": "execute_result"
    }
   ],
   "source": [
    "from pingouin import anova\n",
    "\n",
    "anova(data=datos, dv='total_bill', between='day')\n"
   ]
  },
  {
   "attachments": {},
   "cell_type": "markdown",
   "metadata": {},
   "source": [
    "Esta función realiza un análisis de varianza (ANOVA) de un factor utilizando los valores de la variable \"total_bill\" y la variable categórica \"day\". La hipótes nula es que las medias de los valores de \"total_bill\" son iguales para todos los días de la semana, y la hipótesis alternativa es que al menos una de las medias es distinta. La función devuelve un objeto con los resultados del test, incluyendo el valor de la estadística F, el valor p y los valores parciales eta cuadrado (η²) y omega cuadrado (ω²) para medir el tamaño del efecto.\n",
    "\n",
    "como p-unc es inferior a 0.05 se rechaza la hipotesis nula, por lo tanto la media de la factura total es diferente para los dias de la semana"
   ]
  },
  {
   "attachments": {},
   "cell_type": "markdown",
   "metadata": {},
   "source": [
    "2 - El tamaño de grupo promedio varía significativamente entre los días de la semana."
   ]
  },
  {
   "cell_type": "code",
   "execution_count": 32,
   "metadata": {},
   "outputs": [
    {
     "data": {
      "text/html": [
       "<div>\n",
       "<style scoped>\n",
       "    .dataframe tbody tr th:only-of-type {\n",
       "        vertical-align: middle;\n",
       "    }\n",
       "\n",
       "    .dataframe tbody tr th {\n",
       "        vertical-align: top;\n",
       "    }\n",
       "\n",
       "    .dataframe thead th {\n",
       "        text-align: right;\n",
       "    }\n",
       "</style>\n",
       "<table border=\"1\" class=\"dataframe\">\n",
       "  <thead>\n",
       "    <tr style=\"text-align: right;\">\n",
       "      <th></th>\n",
       "      <th>Source</th>\n",
       "      <th>ddof1</th>\n",
       "      <th>ddof2</th>\n",
       "      <th>F</th>\n",
       "      <th>p-unc</th>\n",
       "      <th>np2</th>\n",
       "    </tr>\n",
       "  </thead>\n",
       "  <tbody>\n",
       "    <tr>\n",
       "      <th>0</th>\n",
       "      <td>day</td>\n",
       "      <td>3</td>\n",
       "      <td>240</td>\n",
       "      <td>4.150516</td>\n",
       "      <td>0.006841</td>\n",
       "      <td>0.049323</td>\n",
       "    </tr>\n",
       "  </tbody>\n",
       "</table>\n",
       "</div>"
      ],
      "text/plain": [
       "  Source  ddof1  ddof2         F     p-unc       np2\n",
       "0    day      3    240  4.150516  0.006841  0.049323"
      ]
     },
     "execution_count": 32,
     "metadata": {},
     "output_type": "execute_result"
    }
   ],
   "source": [
    "anova(data=datos, dv='size', between='day')\n"
   ]
  },
  {
   "attachments": {},
   "cell_type": "markdown",
   "metadata": {},
   "source": [
    "como p-unc es inferior a 0.05 se rechaza la hipotesis nula, por lo tanto el tamaño de grupo promedio varía significativamente entre los días de la semana"
   ]
  },
  {
   "attachments": {},
   "cell_type": "markdown",
   "metadata": {},
   "source": [
    "Hay una diferencia significativa en la propina promedio dejada según el día de la semana."
   ]
  },
  {
   "cell_type": "code",
   "execution_count": 34,
   "metadata": {},
   "outputs": [
    {
     "name": "stderr",
     "output_type": "stream",
     "text": [
      "c:\\ProgramData\\Anaconda3\\lib\\site-packages\\pingouin\\pairwise.py:28: UserWarning: pairwise_ttests is deprecated, use pairwise_tests instead.\n",
      "  warnings.warn(\"pairwise_ttests is deprecated, use pairwise_tests instead.\", UserWarning)\n"
     ]
    },
    {
     "data": {
      "text/html": [
       "<div>\n",
       "<style scoped>\n",
       "    .dataframe tbody tr th:only-of-type {\n",
       "        vertical-align: middle;\n",
       "    }\n",
       "\n",
       "    .dataframe tbody tr th {\n",
       "        vertical-align: top;\n",
       "    }\n",
       "\n",
       "    .dataframe thead th {\n",
       "        text-align: right;\n",
       "    }\n",
       "</style>\n",
       "<table border=\"1\" class=\"dataframe\">\n",
       "  <thead>\n",
       "    <tr style=\"text-align: right;\">\n",
       "      <th></th>\n",
       "      <th>Contrast</th>\n",
       "      <th>A</th>\n",
       "      <th>B</th>\n",
       "      <th>Paired</th>\n",
       "      <th>Parametric</th>\n",
       "      <th>T</th>\n",
       "      <th>dof</th>\n",
       "      <th>alternative</th>\n",
       "      <th>p-unc</th>\n",
       "      <th>p-corr</th>\n",
       "      <th>p-adjust</th>\n",
       "      <th>BF10</th>\n",
       "      <th>hedges</th>\n",
       "    </tr>\n",
       "  </thead>\n",
       "  <tbody>\n",
       "    <tr>\n",
       "      <th>0</th>\n",
       "      <td>day</td>\n",
       "      <td>Fri</td>\n",
       "      <td>Sat</td>\n",
       "      <td>False</td>\n",
       "      <td>True</td>\n",
       "      <td>-0.884684</td>\n",
       "      <td>41.057280</td>\n",
       "      <td>two-sided</td>\n",
       "      <td>0.381479</td>\n",
       "      <td>1.000000</td>\n",
       "      <td>bonf</td>\n",
       "      <td>0.359</td>\n",
       "      <td>-0.166274</td>\n",
       "    </tr>\n",
       "    <tr>\n",
       "      <th>1</th>\n",
       "      <td>day</td>\n",
       "      <td>Fri</td>\n",
       "      <td>Sun</td>\n",
       "      <td>False</td>\n",
       "      <td>True</td>\n",
       "      <td>-1.903040</td>\n",
       "      <td>32.571883</td>\n",
       "      <td>two-sided</td>\n",
       "      <td>0.065905</td>\n",
       "      <td>0.395433</td>\n",
       "      <td>bonf</td>\n",
       "      <td>1.184</td>\n",
       "      <td>-0.431509</td>\n",
       "    </tr>\n",
       "    <tr>\n",
       "      <th>2</th>\n",
       "      <td>day</td>\n",
       "      <td>Fri</td>\n",
       "      <td>Thur</td>\n",
       "      <td>False</td>\n",
       "      <td>True</td>\n",
       "      <td>-0.130196</td>\n",
       "      <td>35.849806</td>\n",
       "      <td>two-sided</td>\n",
       "      <td>0.897139</td>\n",
       "      <td>1.000000</td>\n",
       "      <td>bonf</td>\n",
       "      <td>0.268</td>\n",
       "      <td>-0.030468</td>\n",
       "    </tr>\n",
       "    <tr>\n",
       "      <th>3</th>\n",
       "      <td>day</td>\n",
       "      <td>Sat</td>\n",
       "      <td>Sun</td>\n",
       "      <td>False</td>\n",
       "      <td>True</td>\n",
       "      <td>-1.164374</td>\n",
       "      <td>157.923125</td>\n",
       "      <td>two-sided</td>\n",
       "      <td>0.246028</td>\n",
       "      <td>1.000000</td>\n",
       "      <td>bonf</td>\n",
       "      <td>0.317</td>\n",
       "      <td>-0.178644</td>\n",
       "    </tr>\n",
       "    <tr>\n",
       "      <th>4</th>\n",
       "      <td>day</td>\n",
       "      <td>Sat</td>\n",
       "      <td>Thur</td>\n",
       "      <td>False</td>\n",
       "      <td>True</td>\n",
       "      <td>0.941827</td>\n",
       "      <td>146.345062</td>\n",
       "      <td>two-sided</td>\n",
       "      <td>0.347833</td>\n",
       "      <td>1.000000</td>\n",
       "      <td>bonf</td>\n",
       "      <td>0.268</td>\n",
       "      <td>0.148857</td>\n",
       "    </tr>\n",
       "    <tr>\n",
       "      <th>5</th>\n",
       "      <td>day</td>\n",
       "      <td>Sun</td>\n",
       "      <td>Thur</td>\n",
       "      <td>False</td>\n",
       "      <td>True</td>\n",
       "      <td>2.283293</td>\n",
       "      <td>130.267459</td>\n",
       "      <td>two-sided</td>\n",
       "      <td>0.024032</td>\n",
       "      <td>0.144195</td>\n",
       "      <td>bonf</td>\n",
       "      <td>1.93</td>\n",
       "      <td>0.388762</td>\n",
       "    </tr>\n",
       "  </tbody>\n",
       "</table>\n",
       "</div>"
      ],
      "text/plain": [
       "  Contrast    A     B  Paired  Parametric         T         dof alternative  \\\n",
       "0      day  Fri   Sat   False        True -0.884684   41.057280   two-sided   \n",
       "1      day  Fri   Sun   False        True -1.903040   32.571883   two-sided   \n",
       "2      day  Fri  Thur   False        True -0.130196   35.849806   two-sided   \n",
       "3      day  Sat   Sun   False        True -1.164374  157.923125   two-sided   \n",
       "4      day  Sat  Thur   False        True  0.941827  146.345062   two-sided   \n",
       "5      day  Sun  Thur   False        True  2.283293  130.267459   two-sided   \n",
       "\n",
       "      p-unc    p-corr p-adjust   BF10    hedges  \n",
       "0  0.381479  1.000000     bonf  0.359 -0.166274  \n",
       "1  0.065905  0.395433     bonf  1.184 -0.431509  \n",
       "2  0.897139  1.000000     bonf  0.268 -0.030468  \n",
       "3  0.246028  1.000000     bonf  0.317 -0.178644  \n",
       "4  0.347833  1.000000     bonf  0.268  0.148857  \n",
       "5  0.024032  0.144195     bonf   1.93  0.388762  "
      ]
     },
     "execution_count": 34,
     "metadata": {},
     "output_type": "execute_result"
    }
   ],
   "source": [
    "from pingouin import pairwise_ttests\n",
    "\n",
    "pairwise_ttests(data=datos, dv='tip', between='day', padjust='bonf')\n"
   ]
  },
  {
   "attachments": {},
   "cell_type": "markdown",
   "metadata": {},
   "source": [
    "Aqui dependiendo del dia que compares se puede ver el diferente valor de p-unc, por lo tanto se rechaza o no la hipotesis nula"
   ]
  },
  {
   "attachments": {},
   "cell_type": "markdown",
   "metadata": {
    "notebookRunGroups": {
     "groupValue": ""
    }
   },
   "source": [
    "# Hipótesis dos muestras relacionadas\n",
    "Para realizar un test de hipótesis respecto a dos muestras relacionadas, debes utilizar la función ttest de Pingouin, pero esta vez pasándole dos arrays de datos que correspondan a las mismas observaciones en distintos momentos. Supongamos que quieres comparar los valores medios de la variable \"total_bill\" antes y después de aplicar un descuento a los clientes. Para hacerlo, puedes ejecutar el siguiente código:"
   ]
  },
  {
   "cell_type": "code",
   "execution_count": 24,
   "metadata": {},
   "outputs": [
    {
     "data": {
      "text/html": [
       "<div>\n",
       "<style scoped>\n",
       "    .dataframe tbody tr th:only-of-type {\n",
       "        vertical-align: middle;\n",
       "    }\n",
       "\n",
       "    .dataframe tbody tr th {\n",
       "        vertical-align: top;\n",
       "    }\n",
       "\n",
       "    .dataframe thead th {\n",
       "        text-align: right;\n",
       "    }\n",
       "</style>\n",
       "<table border=\"1\" class=\"dataframe\">\n",
       "  <thead>\n",
       "    <tr style=\"text-align: right;\">\n",
       "      <th></th>\n",
       "      <th>T</th>\n",
       "      <th>dof</th>\n",
       "      <th>alternative</th>\n",
       "      <th>p-val</th>\n",
       "      <th>CI95%</th>\n",
       "      <th>cohen-d</th>\n",
       "      <th>BF10</th>\n",
       "      <th>power</th>\n",
       "    </tr>\n",
       "  </thead>\n",
       "  <tbody>\n",
       "    <tr>\n",
       "      <th>T-test</th>\n",
       "      <td>34.717142</td>\n",
       "      <td>243</td>\n",
       "      <td>two-sided</td>\n",
       "      <td>3.595803e-96</td>\n",
       "      <td>[1.87, 2.09]</td>\n",
       "      <td>0.233628</td>\n",
       "      <td>2.537e+92</td>\n",
       "      <td>0.953029</td>\n",
       "    </tr>\n",
       "  </tbody>\n",
       "</table>\n",
       "</div>"
      ],
      "text/plain": [
       "                T  dof alternative         p-val         CI95%   cohen-d  \\\n",
       "T-test  34.717142  243   two-sided  3.595803e-96  [1.87, 2.09]  0.233628   \n",
       "\n",
       "             BF10     power  \n",
       "T-test  2.537e+92  0.953029  "
      ]
     },
     "execution_count": 24,
     "metadata": {},
     "output_type": "execute_result"
    }
   ],
   "source": [
    "antes = datos['total_bill']\n",
    "despues = datos['total_bill'] * 0.9  # Aplicar un descuento del 10%\n",
    "\n",
    "ttest(antes, despues, paired=True)\n"
   ]
  },
  {
   "attachments": {},
   "cell_type": "markdown",
   "metadata": {},
   "source": [
    "Esta función realiza un test de hipótesis de dos muestras relacionadas utilizando una prueba t de Student para muestras pareadas. La hipótesis nula es que las medias de los valores de \"total_bill\" antes y después del descuento son iguales, y la hipótesis alternativa es que son distintas. La función devuelve un objeto con los resultados del test, incluyendo el valor de la estadística t, el valor p y el intervalo de confianza para la diferencia de medias. El argumento paired=True indica que los datos corresponden a las mismas observaciones en distintos momentos.\n",
    "\n",
    "como p-val es inferior a 0.05 se rechaza la hipotesis nula, por lo tanto la media de la factura total es diferente antes y despues de aplicar el descuento"
   ]
  },
  {
   "attachments": {},
   "cell_type": "markdown",
   "metadata": {},
   "source": [
    "Hay una diferencia significativa en la propina promedio dejada en el almuerzo y en la cena."
   ]
  },
  {
   "cell_type": "code",
   "execution_count": 35,
   "metadata": {},
   "outputs": [
    {
     "name": "stderr",
     "output_type": "stream",
     "text": [
      "c:\\ProgramData\\Anaconda3\\lib\\site-packages\\pingouin\\parametric.py:228: UserWarning: x and y have unequal sizes. Switching to paired == False. Check your data.\n",
      "  warnings.warn(\"x and y have unequal sizes. Switching to paired == False. Check your data.\")\n"
     ]
    },
    {
     "data": {
      "text/html": [
       "<div>\n",
       "<style scoped>\n",
       "    .dataframe tbody tr th:only-of-type {\n",
       "        vertical-align: middle;\n",
       "    }\n",
       "\n",
       "    .dataframe tbody tr th {\n",
       "        vertical-align: top;\n",
       "    }\n",
       "\n",
       "    .dataframe thead th {\n",
       "        text-align: right;\n",
       "    }\n",
       "</style>\n",
       "<table border=\"1\" class=\"dataframe\">\n",
       "  <thead>\n",
       "    <tr style=\"text-align: right;\">\n",
       "      <th></th>\n",
       "      <th>T</th>\n",
       "      <th>dof</th>\n",
       "      <th>alternative</th>\n",
       "      <th>p-val</th>\n",
       "      <th>CI95%</th>\n",
       "      <th>cohen-d</th>\n",
       "      <th>BF10</th>\n",
       "      <th>power</th>\n",
       "    </tr>\n",
       "  </thead>\n",
       "  <tbody>\n",
       "    <tr>\n",
       "      <th>T-test</th>\n",
       "      <td>-2.059327</td>\n",
       "      <td>144.071201</td>\n",
       "      <td>two-sided</td>\n",
       "      <td>0.041263</td>\n",
       "      <td>[-0.73, -0.02]</td>\n",
       "      <td>0.272186</td>\n",
       "      <td>1.116</td>\n",
       "      <td>0.475627</td>\n",
       "    </tr>\n",
       "  </tbody>\n",
       "</table>\n",
       "</div>"
      ],
      "text/plain": [
       "               T         dof alternative     p-val           CI95%   cohen-d  \\\n",
       "T-test -2.059327  144.071201   two-sided  0.041263  [-0.73, -0.02]  0.272186   \n",
       "\n",
       "         BF10     power  \n",
       "T-test  1.116  0.475627  "
      ]
     },
     "execution_count": 35,
     "metadata": {},
     "output_type": "execute_result"
    }
   ],
   "source": [
    "ttest(datos.loc[datos['time'] == 'Lunch', 'tip'], datos.loc[datos['time'] == 'Dinner', 'tip'], paired=True)\n"
   ]
  },
  {
   "attachments": {},
   "cell_type": "markdown",
   "metadata": {},
   "source": [
    "como p-val es inferior a 0.05 se rechaza la hipotesis nula, por lo tanto hay una diferencia significativa en la propina promedio dejada en el almuerzo y en la cena"
   ]
  },
  {
   "attachments": {},
   "cell_type": "markdown",
   "metadata": {},
   "source": [
    "# Graficos\n",
    "\n",
    "Ahora vamos a cojer muchas hipotesis de las anteriores y añadir graficos para ver si se cumplen o no"
   ]
  },
  {
   "cell_type": "code",
   "execution_count": 51,
   "metadata": {},
   "outputs": [
    {
     "name": "stderr",
     "output_type": "stream",
     "text": [
      "c:\\ProgramData\\Anaconda3\\lib\\site-packages\\pingouin\\parametric.py:228: UserWarning: x and y have unequal sizes. Switching to paired == False. Check your data.\n",
      "  warnings.warn(\"x and y have unequal sizes. Switching to paired == False. Check your data.\")\n"
     ]
    },
    {
     "data": {
      "text/html": [
       "<div>\n",
       "<style scoped>\n",
       "    .dataframe tbody tr th:only-of-type {\n",
       "        vertical-align: middle;\n",
       "    }\n",
       "\n",
       "    .dataframe tbody tr th {\n",
       "        vertical-align: top;\n",
       "    }\n",
       "\n",
       "    .dataframe thead th {\n",
       "        text-align: right;\n",
       "    }\n",
       "</style>\n",
       "<table border=\"1\" class=\"dataframe\">\n",
       "  <thead>\n",
       "    <tr style=\"text-align: right;\">\n",
       "      <th></th>\n",
       "      <th>Source</th>\n",
       "      <th>SS</th>\n",
       "      <th>DF</th>\n",
       "      <th>MS</th>\n",
       "      <th>F</th>\n",
       "      <th>p-unc</th>\n",
       "      <th>np2</th>\n",
       "    </tr>\n",
       "  </thead>\n",
       "  <tbody>\n",
       "    <tr>\n",
       "      <th>0</th>\n",
       "      <td>time</td>\n",
       "      <td>202.222211</td>\n",
       "      <td>1.0</td>\n",
       "      <td>202.222211</td>\n",
       "      <td>4.125991</td>\n",
       "      <td>4.336953e-02</td>\n",
       "      <td>0.017474</td>\n",
       "    </tr>\n",
       "    <tr>\n",
       "      <th>1</th>\n",
       "      <td>size</td>\n",
       "      <td>6704.367402</td>\n",
       "      <td>5.0</td>\n",
       "      <td>1340.873480</td>\n",
       "      <td>27.358184</td>\n",
       "      <td>9.850427e-22</td>\n",
       "      <td>0.370917</td>\n",
       "    </tr>\n",
       "    <tr>\n",
       "      <th>2</th>\n",
       "      <td>time * size</td>\n",
       "      <td>537.586142</td>\n",
       "      <td>5.0</td>\n",
       "      <td>107.517228</td>\n",
       "      <td>2.193701</td>\n",
       "      <td>5.579270e-02</td>\n",
       "      <td>0.045144</td>\n",
       "    </tr>\n",
       "    <tr>\n",
       "      <th>3</th>\n",
       "      <td>Residual</td>\n",
       "      <td>11370.734616</td>\n",
       "      <td>232.0</td>\n",
       "      <td>49.011787</td>\n",
       "      <td>NaN</td>\n",
       "      <td>NaN</td>\n",
       "      <td>NaN</td>\n",
       "    </tr>\n",
       "  </tbody>\n",
       "</table>\n",
       "</div>"
      ],
      "text/plain": [
       "        Source            SS     DF           MS          F         p-unc  \\\n",
       "0         time    202.222211    1.0   202.222211   4.125991  4.336953e-02   \n",
       "1         size   6704.367402    5.0  1340.873480  27.358184  9.850427e-22   \n",
       "2  time * size    537.586142    5.0   107.517228   2.193701  5.579270e-02   \n",
       "3     Residual  11370.734616  232.0    49.011787        NaN           NaN   \n",
       "\n",
       "        np2  \n",
       "0  0.017474  \n",
       "1  0.370917  \n",
       "2  0.045144  \n",
       "3       NaN  "
      ]
     },
     "execution_count": 51,
     "metadata": {},
     "output_type": "execute_result"
    },
    {
     "data": {
      "image/png": "[encoded data removed]",
      "text/plain": [
       "<Figure size 640x480 with 1 Axes>"
      ]
     },
     "metadata": {},
     "output_type": "display_data"
    }
   ],
   "source": [
    "import pandas as pd\n",
    "import seaborn as sns\n",
    "from pingouin import ttest, anova, rm_anova\n",
    "\n",
    "# Cargar los datos de tips.csv\n",
    "datos = pd.read_csv('tips.csv')\n",
    "\n",
    "# Hipótesis respecto a un valor\n",
    "# La propina promedio es de 2.5 dolares\n",
    "sns.boxplot(x='tip', data=datos)\n",
    "ttest(datos['tip'], 2.5)\n",
    "\n",
    "# Hipótesis respecto a dos muestras independientes\n",
    "# Los hombres dejan una propina significativamente mayor que las mujeres\n",
    "sns.boxplot(x='sex', y='tip', data=datos)\n",
    "ttest(datos.loc[datos['sex'] == 'Male', 'tip'], datos.loc[datos['sex'] == 'Female', 'tip'])\n",
    "\n",
    "# Hipótesis varias categorías\n",
    "# La cantidad total de la factura difiere significativamente entre los días de la semana\n",
    "sns.boxplot(x='day', y='total_bill', data=datos)\n",
    "anova(data=datos, dv='total_bill', between='day')\n",
    "\n",
    "\n",
    "# Hipótesis dos muestras relacionadas\n",
    "# Hay una diferencia significativa en la propina promedio dejada en el almuerzo y en la cena\n",
    "sns.boxplot(x='time', y='tip', data=datos)\n",
    "ttest(datos.loc[datos['time'] == 'Lunch', 'tip'], datos.loc[datos['time'] == 'Dinner', 'tip'], paired=True)\n",
    "\n",
    "# La cantidad total de la factura difiere significativamente entre fumadores y no fumadores\n",
    "sns.boxplot(x='smoker', y='total_bill', data=datos)\n",
    "ttest(x=datos['total_bill'][datos['smoker'] == 'Yes'], y=datos['total_bill'][datos['smoker'] == 'No'])\n",
    "\n",
    "\n",
    "# El total de la cuenta promedio varía significativamente entre los días de la semana\n",
    "sns.boxplot(x='day', y='total_bill', data=datos)\n",
    "anova(data=datos, dv='total_bill', between='day')\n",
    "\n",
    "\n",
    "# Hipótesis respecto a dos muestras independientes\n",
    "# La propina promedio dejada por los fumadores es significativamente diferente a la de los no fumadores\n",
    "sns.boxplot(x='smoker', y='tip', data=datos)\n",
    "ttest(datos.loc[datos['smoker'] == 'Yes', 'tip'], datos.loc[datos['smoker'] == 'No', 'tip'])\n",
    "\n",
    "# Hipótesis varias categorías\n",
    "# El tamaño del grupo afecta significativamente el gasto total en la cuenta en diferentes momentos del día\n",
    "sns.boxplot(x='time', y='total_bill', hue='size', data=datos)\n",
    "anova(data=datos, dv='total_bill', between=['time', 'size'])\n"
   ]
  }
 ],
 "metadata": {
  "kernelspec": {
   "display_name": "base",
   "language": "python",
   "name": "python3"
  },
  "language_info": {
   "codemirror_mode": {
    "name": "ipython",
    "version": 3
   },
   "file_extension": ".py",
   "mimetype": "text/x-python",
   "name": "python",
   "nbconvert_exporter": "python",
   "pygments_lexer": "ipython3",
   "version": "3.9.13"
  },
  "orig_nbformat": 4
 },
 "nbformat": 4,
 "nbformat_minor": 2
}
